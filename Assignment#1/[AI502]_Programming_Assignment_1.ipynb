{
  "nbformat": 4,
  "nbformat_minor": 0,
  "metadata": {
    "colab": {
      "provenance": []
    },
    "kernelspec": {
      "name": "python3",
      "display_name": "Python 3"
    },
    "language_info": {
      "name": "python"
    },
    "accelerator": "GPU",
    "gpuClass": "standard"
  },
  "cells": [
    {
      "cell_type": "code",
      "execution_count": null,
      "metadata": {
        "id": "bRHAfV2HEEa9"
      },
      "outputs": [],
      "source": [
        "import torch\n",
        "import torch.nn as nn\n",
        "import torch.optim as optim\n",
        "import torchvision.transforms as transforms\n",
        "import torchvision.datasets as datasets\n",
        "from tqdm.auto import tqdm"
      ]
    },
    {
      "cell_type": "code",
      "source": [
        "# Set the device to use for training\n",
        "device = torch.device('cuda' if torch.cuda.is_available() else 'cpu')"
      ],
      "metadata": {
        "id": "-O0enbD-ELgG"
      },
      "execution_count": null,
      "outputs": []
    },
    {
      "cell_type": "code",
      "source": [
        "# Define the FCN model\n",
        "class FCN(nn.Module):\n",
        "    def __init__(self):\n",
        "        super(FCN, self).__init__()\n",
        "        \"\"\"\n",
        "        implement code here\n",
        "        \"\"\"\n",
        "\n",
        "    def forward(self, x):\n",
        "        \"\"\"\n",
        "        implement code here\n",
        "        \"\"\"\n",
        "        return outputs"
      ],
      "metadata": {
        "id": "ca6JkD1XH4Q9"
      },
      "execution_count": null,
      "outputs": []
    },
    {
      "cell_type": "code",
      "source": [
        "# Define the CNN model\n",
        "class CNN(nn.Module):\n",
        "    def __init__(self):\n",
        "        super(CNN, self).__init__()\n",
        "        \"\"\"\n",
        "        implement code here\n",
        "        \"\"\"\n",
        "\n",
        "    def forward(self, x):\n",
        "        \"\"\"\n",
        "        implement code here\n",
        "        \"\"\"\n",
        "        return outputs"
      ],
      "metadata": {
        "id": "5ZYpFy6iETZC"
      },
      "execution_count": null,
      "outputs": []
    },
    {
      "cell_type": "code",
      "source": [
        "# Set the hyperparameters\n",
        "\"\"\"You can change those values\"\"\"\n",
        "learning_rate = 0.001\n",
        "num_epochs = 100\n",
        "batch_size = 128\n",
        "weight_decay = 0"
      ],
      "metadata": {
        "id": "jlPIsYwSEV8U"
      },
      "execution_count": null,
      "outputs": []
    },
    {
      "cell_type": "code",
      "source": [
        "# Initialize the model and optimizer\n",
        "model = FCN().to(device)\n",
        "# model = CNN().to(device)\n",
        "\n",
        "\"\"\"You can change the optimizer\"\"\"\n",
        "optimizer = optim.Adam(model.parameters(), lr=learning_rate, weight_decay=weight_decay) \n",
        "\n",
        "# Define the loss function\n",
        "criterion = nn.CrossEntropyLoss()"
      ],
      "metadata": {
        "id": "ppOIWDH1IiG8"
      },
      "execution_count": null,
      "outputs": []
    },
    {
      "cell_type": "code",
      "source": [
        "# CIFAR preprocessing \n",
        "transform_train = transforms.Compose([\n",
        "    transforms.RandomCrop(32, padding=4),\n",
        "    transforms.RandomHorizontalFlip(),\n",
        "    transforms.ToTensor(),\n",
        "    transforms.Normalize((0.4914, 0.4822, 0.4465), (0.2023, 0.1994, 0.2010)),\n",
        "])\n",
        "\n",
        "transform_test = transforms.Compose([\n",
        "    transforms.ToTensor(),\n",
        "    transforms.Normalize((0.4914, 0.4822, 0.4465), (0.2023, 0.1994, 0.2010)),\n",
        "])\n",
        "\n",
        "# Load the CIFAR-10 dataset\n",
        "train_dataset = datasets.CIFAR10(root='./data', train=True, transform=transform_train, download=True)\n",
        "test_dataset = datasets.CIFAR10(root='./data', train=False, transform=transform_test, download=True)\n",
        "\n",
        "# Create the data loaders\n",
        "train_loader = torch.utils.data.DataLoader(dataset=train_dataset, batch_size=batch_size, shuffle=True)\n",
        "test_loader = torch.utils.data.DataLoader(dataset=test_dataset, batch_size=batch_size, shuffle=False)"
      ],
      "metadata": {
        "id": "58lald0CHfkz"
      },
      "execution_count": null,
      "outputs": []
    },
    {
      "cell_type": "code",
      "source": [
        "train_losses = []\n",
        "test_accs = []\n",
        "for epoch in tqdm(range(num_epochs)):\n",
        "    # Training\n",
        "    epoch_loss = 0.0\n",
        "    for images, labels in train_loader:\n",
        "        # Move the images and labels to the device\n",
        "        images = images.to(device)\n",
        "        labels = labels.to(device)\n",
        "\n",
        "        # Zero the gradients\n",
        "        optimizer.zero_grad()\n",
        "\n",
        "        # Forward pass\n",
        "        outputs = model(images)\n",
        "        loss = criterion(outputs, labels)\n",
        "        loss.backward()\n",
        "        optimizer.step()\n",
        "\n",
        "        epoch_loss += loss.item()\n",
        "\n",
        "    # Evaluation\n",
        "    if (epoch + 1) % 10 == 0:\n",
        "        num_correct = 0\n",
        "        num_total = 0\n",
        "        for images, labels in test_loader:\n",
        "            # Move the images and labels to the device\n",
        "            images = images.to(device)\n",
        "            labels = labels.to(device)\n",
        "\n",
        "            outputs = model(images)\n",
        "            num_correct += torch.sum(torch.argmax(outputs, dim=-1) == labels)\n",
        "            num_total += len(labels)\n",
        "        test_accs.append(100 * num_correct / num_total)\n",
        "        print('[epoch %d] test accuracy: %.2f' %\n",
        "            (epoch + 1, 100 * num_correct / num_total))\n",
        "\n",
        "    # Print statistics\n",
        "    train_losses.append(epoch_loss / len(train_loader))\n",
        "    print('[epoch %d] training loss: %.4f' %\n",
        "            (epoch + 1, epoch_loss / len(train_loader)))\n",
        "    \n",
        "print('Finished Training')"
      ],
      "metadata": {
        "id": "dsSv2J9_EnpV"
      },
      "execution_count": null,
      "outputs": []
    }
  ]
}